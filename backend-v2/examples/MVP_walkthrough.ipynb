{
  "cells": [
    {
      "cell_type": "markdown",
      "metadata": {},
      "source": [
        "# backend-v2 MVP 走查（Notebook）\n",
        "\n",
        "本 Notebook 将以可执行的方式，按步骤完成从 Catalog → Selections → Codegen → Validate → Test → Persist → Strategy → Universe → Run 的最小闭环验证。\n",
        "\n",
        "- 运行前置：确保已在项目根或 `backend-v2/` 下执行，且 Python 环境可用。\n",
        "- 必须配置真实 LLM（DashScope/OpenAI 兼容）；未配置将终止执行。\n",
        "\n"
      ]
    },
    {
      "cell_type": "code",
      "execution_count": 2,
      "metadata": {},
      "outputs": [
        {
          "name": "stdout",
          "output_type": "stream",
          "text": [
            "env loaded from /Users/yikazhu/code/j-traders/backend-v2/.env : True\n"
          ]
        }
      ],
      "source": [
        "# 显式仅加载 backend-v2/.env（不尝试项目根 .env），在缺少 python-dotenv 时自动回退\n",
        "import os\n",
        "from pathlib import Path\n",
        "\n",
        "\n",
        "def _load_env_file(path: Path) -> bool:\n",
        "    if not path.exists():\n",
        "        return False\n",
        "    for line in path.read_text(encoding='utf-8').splitlines():\n",
        "        s = line.strip()\n",
        "        if not s or s.startswith('#') or '=' not in s:\n",
        "            continue\n",
        "        key, value = s.split('=', 1)\n",
        "        key = key.strip()\n",
        "        value = value.strip().strip('\"').strip(\"'\")\n",
        "        if key and key not in os.environ:\n",
        "            os.environ[key] = value\n",
        "    return True\n",
        "\n",
        "start = Path.cwd()\n",
        "backend_dir = None\n",
        "for cand in [start, *start.parents]:\n",
        "    if (cand / 'backend-v2' / 'app').exists() or (cand / 'backend-v2' / '.env').exists():\n",
        "        backend_dir = cand / 'backend-v2'\n",
        "        break\n",
        "if backend_dir is None and (start / 'app').exists():\n",
        "    backend_dir = start\n",
        "if backend_dir is None:\n",
        "    backend_dir = start\n",
        "\n",
        "p = backend_dir / '.env'\n",
        "\n",
        "loaded = False\n",
        "try:\n",
        "    from dotenv import load_dotenv  # type: ignore\n",
        "    if p.exists():\n",
        "        load_dotenv(dotenv_path=p, override=True)\n",
        "        loaded = True\n",
        "except Exception:\n",
        "    loaded = _load_env_file(p)\n",
        "\n",
        "print('env loaded from', str(p), ':', loaded)\n",
        "\n"
      ]
    },
    {
      "cell_type": "code",
      "execution_count": 3,
      "metadata": {},
      "outputs": [
        {
          "name": "stdout",
          "output_type": "stream",
          "text": [
            "Using backend path: /Users/yikazhu/code/j-traders/backend-v2\n",
            "LLM endpoint: https://dashscope.aliyuncs.com/compatible-mode/v1\n",
            "LLM model: qwen3-coder-plus\n"
          ]
        }
      ],
      "source": [
        "# 环境准备\n",
        "import os, sys\n",
        "from pathlib import Path\n",
        "\n",
        "# 解析 backend-v2 根目录（兼容从项目根/任意子目录运行）\n",
        "def find_backend_root(start: Path) -> Path:\n",
        "    for cand in [start, *start.parents]:\n",
        "        if (cand / 'backend-v2' / 'app').exists():\n",
        "            return cand / 'backend-v2'\n",
        "        if (cand / 'app').exists() and (cand / 'core').exists():\n",
        "            return cand\n",
        "    raise RuntimeError('未找到 backend-v2 根目录，请从项目根或 backend-v2 下运行。')\n",
        "\n",
        "here = Path.cwd()\n",
        "backend = find_backend_root(here)\n",
        "os.chdir(backend)\n",
        "sys.path.insert(0, str(backend))\n",
        "\n",
        "# 必须配置 DashScope/OpenAI 兼容 LLM：至少提供以下之一\n",
        "# 方案 A（推荐）：DASHSCOPE_API_KEY（默认使用 qwen3-coder-plus）\n",
        "from app.core.config import load_settings\n",
        "settings = load_settings()\n",
        "\n",
        "has_dashscope = bool(os.getenv('DASHSCOPE_API_KEY'))\n",
        "if not (has_dashscope):\n",
        "    raise SystemExit('缺少 LLM 配置：请设置 DASHSCOPE_API_KEY 后重试。')\n",
        "\n",
        "print('Using backend path:', backend)\n",
        "print('LLM endpoint:', settings.ai_endpoint)\n",
        "print('LLM model:', settings.ai_model or os.getenv('AI_MODEL') or 'qwen3-coder-plus')\n",
        "\n"
      ]
    },
    {
      "cell_type": "code",
      "execution_count": 4,
      "metadata": {},
      "outputs": [
        {
          "name": "stdout",
          "output_type": "stream",
          "text": [
            "/health -> {'status': 'ok', 'version': '0.1.0'}\n"
          ]
        }
      ],
      "source": [
        "# 启动 FastAPI 应用（内嵌）\n",
        "from fastapi.testclient import TestClient\n",
        "from app.main import create_app\n",
        "\n",
        "app = create_app()\n",
        "client = TestClient(app)\n",
        "print('/health ->', client.get('/health').json())\n",
        "\n"
      ]
    },
    {
      "cell_type": "code",
      "execution_count": 5,
      "metadata": {},
      "outputs": [
        {
          "name": "stdout",
          "output_type": "stream",
          "text": [
            "endpoints: ['cashflow', 'daily_basic']\n",
            "daily_basic: 200\n",
            "selection exists -> val_low_combo\n",
            "selection ok, fields: ['ts_code', 'trade_date', 'pe_ttm', 'pb']\n"
          ]
        }
      ],
      "source": [
        "# M1: Catalog & Selections\n",
        "import json\n",
        "\n",
        "# 列出端点\n",
        "resp = client.get('/catalog/endpoints')\n",
        "endpoints = resp.json()\n",
        "print('endpoints:', [e['name'] for e in endpoints])\n",
        "\n",
        "# 获取 daily_basic 详情\n",
        "print('daily_basic:', client.get('/catalog/endpoints/daily_basic').status_code)\n",
        "\n",
        "# 新建/读取一个 selection（若已存在则读取）\n",
        "sel_slug = 'val_low_combo'\n",
        "sel_path = backend / 'catalog' / 'selections' / f'{sel_slug}.json'\n",
        "if not sel_path.exists():\n",
        "    body = {\n",
        "        \"factor_slug\": sel_slug,\n",
        "        \"title\": \"低估值复合（PE_TTM + PB）\",\n",
        "        \"output_index\": [\"ts_code\",\"trade_date\"],\n",
        "        \"selection\": [{\n",
        "            \"endpoint\": \"daily_basic\",\n",
        "            \"fields\": [\"ts_code\",\"trade_date\",\"pe_ttm\",\"pb\"],\n",
        "            \"param_binding\": {},\n",
        "            \"join_keys\": [\"ts_code\",\"trade_date\"]\n",
        "        }],\n",
        "        \"constraints\": {\"winsor\": [0.01,0.99], \"zscore_axis\": \"trade_date\"},\n",
        "        \"code_contract\": { \"signature\": \"def compute_factor(data: dict[str, pd.DataFrame], params: dict) -> pd.DataFrame\", \"data_keys\": [\"daily_basic\"] }\n",
        "    }\n",
        "    print('create selection ->', client.post('/catalog/selections', json=body).json())\n",
        "else:\n",
        "    print('selection exists ->', sel_slug)\n",
        "\n",
        "selection = json.loads(sel_path.read_text(encoding='utf-8'))\n",
        "print('selection ok, fields:', selection['selection'][0]['fields'])\n",
        "\n"
      ]
    },
    {
      "cell_type": "code",
      "execution_count": 6,
      "metadata": {},
      "outputs": [
        {
          "name": "stdout",
          "output_type": "stream",
          "text": [
            "=== System Prompt (final) ===\n",
            " 你是量化研究编码助手。请只生成 Python 代码，函数签名：\n",
            "def compute_factor(data: dict[str, pd.DataFrame], params: dict) -> pd.DataFrame\n",
            "约束：仅可使用 pandas/numpy；禁止 IO/网络/子进程/动态导入/反射；输出需保留 output_index，且包含 'factor' 列。\n",
            "不要在函数中做 winsor、缺失填充、标准化或方向一致化，这些在系统后续阶段统一处理。\n",
            "\n",
            "[SELECTION_CONTEXT_JSON]\n",
            "{\"selection\": {\"factor_slug\": \"val_low_combo\", \"title\": \"低估值复合（PE_TTM + PB）\", \"output_index\": [\"ts_code\", \"trade_date\"], \"selection\": [{\"endpoint\": \"daily_basic\", \"fields\": [\"ts_code\", \"trade_date\", \"pe_ttm\", \"pb\"], \"param_binding\": {\"start_date\": {\"type\": \"request_arg\", \"name\": \"start_date\"}, \"end_date\": {\"type\": \"request_arg\", \"name\": \"end_date\"}}, \"join_keys\": [\"ts_code\", \"trade_date\"]}], \"alignment\": [], \"constraints\": {\"winsor\": [0.01, 0.99], \"zscore_axis\": \"trade_date\"}, \"code_contract\": {\"signature\": \"def compute_factor(data: dict[str, pd.DataFrame], params: dict) -> pd.DataFrame\", \"data_keys\": [\"daily_basic\"]}}, \"endpoints\": {\"daily_basic\": {\"name\": \"daily_basic\", \"description\": \"每日估值/规模/流动性指标\", \"source\": \"tushare\", \"sdk\": {\"method\": \"daily_basic\"}, \"axis\": \"trade_date\", \"frequency\": \"daily\", \"ids\": [\"ts_code\"], \"params\": [{\"name\": \"ts_code\", \"type\": \"string\", \"required\": true, \"desc\": \"股票代码（二选一）\"}, {\"name\": \"trade_date\", \"type\": \"date\", \"required\": false, \"desc\": \"交易日期（二选一）\"}, {\"name\": \"start_date\", \"type\": \"date\", \"required\": false, \"desc\": \"开始日期\"}, {\"name\": \"end_date\", \"type\": \"date\", \"required\": false, \"desc\": \"结束日期\"}], \"fields\": [{\"name\": \"ts_code\", \"dtype\": \"string\", \"role\": \"identifier\", \"desc\": \"TS股票代码\", \"measure_kind\": null, \"unit\": null, \"sign\": null, \"tags\": []}, {\"name\": \"trade_date\", \"dtype\": \"date\", \"role\": \"timestamp\", \"desc\": \"交易日期\", \"measure_kind\": null, \"unit\": null, \"sign\": null, \"tags\": []}, {\"name\": \"close\", \"dtype\": \"float\", \"role\": \"measure\", \"desc\": \"收盘价\", \"measure_kind\": null, \"unit\": \"CNY\", \"sign\": \"ambivalent\", \"tags\": []}, {\"name\": \"turnover_rate\", \"dtype\": \"float\", \"role\": \"measure\", \"desc\": \"换手率%\", \"measure_kind\": null, \"unit\": \"%\", \"sign\": \"ambivalent\", \"tags\": [\"liquidity\"]}, {\"name\": \"volume_ratio\", \"dtype\": \"float\", \"role\": \"measure\", \"desc\": \"量比\", \"measure_kind\": null, \"unit\": null, \"sign\": \"ambivalent\", \"tags\": [\"liquidity\"]}, {\"name\": \"pe\", \"dtype\": \"float\", \"role\": \"measure\", \"desc\": \"PE\", \"measure_kind\": null, \"unit\": \"x\", \"sign\": \"lower_better\", \"tags\": [\"valuation\"]}, {\"name\": \"pe_ttm\", \"dtype\": \"float\", \"role\": \"measure\", \"desc\": \"PE TTM\", \"measure_kind\": null, \"unit\": \"x\", \"sign\": \"lower_better\", \"tags\": [\"valuation\"]}, {\"name\": \"pb\", \"dtype\": \"float\", \"role\": \"measure\", \"desc\": \"PB\", \"measure_kind\": null, \"unit\": \"x\", \"sign\": \"lower_better\", \"tags\": [\"valuation\"]}, {\"name\": \"ps\", \"dtype\": \"float\", \"role\": \"measure\", \"desc\": \"PS\", \"measure_kind\": null, \"unit\": \"x\", \"sign\": \"lower_better\", \"tags\": [\"valuation\"]}, {\"name\": \"ps_ttm\", \"dtype\": \"float\", \"role\": \"measure\", \"desc\": \"PS TTM\", \"measure_kind\": null, \"unit\": \"x\", \"sign\": \"lower_better\", \"tags\": [\"valuation\"]}, {\"name\": \"dv_ratio\", \"dtype\": \"float\", \"role\": \"measure\", \"desc\": \"股息率%\", \"measure_kind\": null, \"unit\": \"%\", \"sign\": \"higher_better\", \"tags\": [\"yield\"]}, {\"name\": \"dv_ttm\", \"dtype\": \"float\", \"role\": \"measure\", \"desc\": \"股息率TTM%\", \"measure_kind\": null, \"unit\": \"%\", \"sign\": \"higher_better\", \"tags\": [\"yield\"]}, {\"name\": \"total_share\", \"dtype\": \"float\", \"role\": \"measure\", \"desc\": \"总股本(万股)\", \"measure_kind\": null, \"unit\": \"share_10K\", \"sign\": \"ambivalent\", \"tags\": [\"size\"]}, {\"name\": \"float_share\", \"dtype\": \"float\", \"role\": \"measure\", \"desc\": \"流通股本(万股)\", \"measure_kind\": null, \"unit\": \"share_10K\", \"sign\": \"ambivalent\", \"tags\": [\"size\"]}, {\"name\": \"free_share\", \"dtype\": \"float\", \"role\": \"measure\", \"desc\": \"自由流通股本(万)\", \"measure_kind\": null, \"unit\": \"share_10K\", \"sign\": \"ambivalent\", \"tags\": [\"size\"]}, {\"name\": \"total_mv\", \"dtype\": \"float\", \"role\": \"measure\", \"desc\": \"总市值(万元)\", \"measure_kind\": null, \"unit\": \"CNY_10K\", \"sign\": \"ambivalent\", \"tags\": [\"size\"]}, {\"name\": \"circ_mv\", \"dtype\": \"float\", \"role\": \"measure\", \"desc\": \"流通市值(万元)\", \"measure_kind\": null, \"unit\": \"CNY_10K\", \"sign\": \"ambivalent\", \"tags\": [\"size\"]}], \"rate_limit\": {\"qps\": 8, \"burst\": 16}, \"examples\": {\"python\": \"pro.daily_basic(ts_code='600000.SH', trade_date='20180726')\"}, \"cache_enabled\": true, \"rate_limit_enabled\": true}}, \"output_index\": [\"ts_code\", \"trade_date\"], \"code_contract\": {\"signature\": \"def compute_factor(data: dict[str, pd.DataFrame], params: dict) -> pd.DataFrame\", \"data_keys\": [\"daily_basic\"]}, \"constraints\": {\"winsor\": [0.01, 0.99], \"zscore_axis\": \"trade_date\"}, \"allowed_imports\": [\"pandas\", \"numpy\"], \"denied_capabilities\": [\"io\", \"network\", \"subprocess\", \"dynamic_import\", \"reflection\"]}\n",
            "\n",
            "[USER_FACTOR_SPEC]\n",
            "请基于 daily_basic 的字段 pe_ttm 与 pb 构建一个“低估值复合”原始因子：\n",
            "- 因子含义：估值越低越好（仅说明方向，函数中不要做方向一致化）。\n",
            "- 计算：可对 pe_ttm 与 pb 分别取倒数或取负，使其数值与“越低越好”一致；随后等权平均得到 factor。\n",
            "- 输出：保留 selection 的 output_index，并包含列名为 factor 的结果列。\n",
            "\n",
            "\n",
            "只返回代码，不要解释或 Markdown。\n",
            "codegen status: 200\n",
            "=== Codegen (code) ===\n",
            " def compute_factor(data: dict[str, pd.DataFrame], params: dict) -> pd.DataFrame:\n",
            "    df = data['daily_basic'].copy()\n",
            "    df['factor'] = (-1 / df['pe_ttm']) + (-1 / df['pb'])\n",
            "    df['factor'] = df['factor'] / 2\n",
            "    return df[['ts_code', 'trade_date', 'factor']].dropna()\n",
            "validate: 200 {'ok': True, 'fields_used': ['daily_basic', 'pb', 'pe_ttm'], 'errors': []}\n"
          ]
        }
      ],
      "source": [
        "# M3: Codegen → Validate（打印最终 Prompt 与生成的代码）\n",
        "import os\n",
        "from app.models.selection import SelectionSpec\n",
        "from app.services.context_builder import build_agent_context\n",
        "from app.services.ai.agent import CodegenAgent\n",
        "\n",
        "# 1) 定义用户自然语言需求（以 value_low_combo 为例）\n",
        "user_factor_spec = (\n",
        "    \"请基于 daily_basic 的字段 pe_ttm 与 pb 构建一个“低估值复合”原始因子：\\n\"\n",
        "    \"- 因子含义：估值越低越好（仅说明方向，函数中不要做方向一致化）。\\n\"\n",
        "    \"- 计算：可对 pe_ttm 与 pb 分别取倒数或取负，使其数值与“越低越好”一致；随后等权平均得到 factor。\\n\"\n",
        "    \"- 输出：保留 selection 的 output_index，并包含列名为 factor 的结果列。\\n\"\n",
        ")\n",
        "\n",
        "# 2) 组装最终 system prompt（与后端一致的模板替换流程）\n",
        "spec_model = SelectionSpec.model_validate(selection)\n",
        "context = build_agent_context(spec_model)\n",
        "agent = CodegenAgent(None)\n",
        "msgs = agent._build_messages(context, user_factor_spec, None)\n",
        "system_prompt = msgs[0].content\n",
        "print(\"=== System Prompt (final) ===\\n\", system_prompt)\n",
        "\n",
        "# 3) 调用后端进行代码生成\n",
        "coding_prefs = { 'model': os.getenv('AI_MODEL', 'qwen3-coder-plus'), 'extra': { 'enable_thinking': False } }\n",
        "r1 = client.post('/factors/codegen', json={\n",
        "    'selection': selection,\n",
        "    'user_factor_spec': user_factor_spec,\n",
        "    'coding_prefs': coding_prefs,\n",
        "})\n",
        "js1 = r1.json()\n",
        "print('codegen status:', r1.status_code)\n",
        "code_text = js1.get('code_text')\n",
        "print(\"=== Codegen (code) ===\\n\", code_text)\n",
        "\n",
        "# 4) 校验\n",
        "r2 = client.post('/factors/validate', json={'code_text': code_text, 'selection': selection})\n",
        "print('validate:', r2.status_code, r2.json())\n",
        "\n"
      ]
    },
    {
      "cell_type": "code",
      "execution_count": 7,
      "metadata": {},
      "outputs": [
        {
          "name": "stdout",
          "output_type": "stream",
          "text": [
            "test: 200\n",
            "sample_rows: [{'ts_code': '000001.SZ', 'trade_date': '20210101', 'factor': 0.0}, {'ts_code': '000001.SZ', 'trade_date': '20210108', 'factor': 0.0}]\n",
            "diagnosis: {'mean': 0.0, 'std': 0.0, 'skew': 0.0, 'kurt': 0.0, 'missing_rate': 0.0}\n"
          ]
        }
      ],
      "source": [
        "# M4: Test（含标准化预览）\n",
        "\n",
        "from datetime import date\n",
        "\n",
        "r3 = client.post('/factors/test', json={\n",
        "    'selection': selection,\n",
        "    'code_text': code_text,\n",
        "    'ts_codes': ['000001.SZ','600000.SH'],\n",
        "    'start_date': '20210101',\n",
        "    'end_date': '20210108',\n",
        "    'top_n': 3,\n",
        "    'normalization': {\n",
        "        'method': 'zscore',\n",
        "        'winsor': [0.01, 0.99],\n",
        "        'fill': 'median',\n",
        "        'by': ['trade_date']\n",
        "    }\n",
        "})\n",
        "print('test:', r3.status_code)\n",
        "print('sample_rows:', r3.json().get('sample_rows')[:2])\n",
        "print('diagnosis:', r3.json().get('diagnosis'))\n",
        "\n"
      ]
    },
    {
      "cell_type": "code",
      "execution_count": 8,
      "metadata": {},
      "outputs": [
        {
          "name": "stdout",
          "output_type": "stream",
          "text": [
            "save factor id: 24\n",
            "strategy id: 25\n"
          ]
        },
        {
          "data": {
            "text/plain": [
              "<Response [200 OK]>"
            ]
          },
          "execution_count": 8,
          "metadata": {},
          "output_type": "execute_result"
        }
      ],
      "source": [
        "# M5: Persist 因子与策略\n",
        "\n",
        "# 保存因子\n",
        "save_factor = client.post('/factors', json={\n",
        "    'name': 'notebook_factor',\n",
        "    'code_text': code_text,\n",
        "    'fields_used': ['ts_code','trade_date'],\n",
        "    'selection': selection\n",
        "})\n",
        "fid = save_factor.json().get('id')\n",
        "print('save factor id:', fid)\n",
        "\n",
        "# 创建策略并设置权重与标准化\n",
        "create_strategy = client.post('/strategies', json={'name': 'nb_strategy'})\n",
        "sid = create_strategy.json().get('id')\n",
        "print('strategy id:', sid)\n",
        "\n",
        "client.put(f'/strategies/{sid}/weights', json={'weights':[{'factor_id': fid, 'weight': 1.0}]})\n",
        "client.put(f'/strategies/{sid}/normalization', json={'normalization': {'method':'zscore','winsor':[0.01,0.99],'fill':'median'}})\n",
        "\n"
      ]
    },
    {
      "cell_type": "code",
      "execution_count": 9,
      "metadata": {},
      "outputs": [
        {
          "name": "stdout",
          "output_type": "stream",
          "text": [
            "universe sync: {'ok': True, 'synced': 5422}\n",
            "universe list: [{'ts_code': '000001.SZ', 'sec_type': 'stock', 'symbol': '000001', 'name': '平安银行', 'area': '深圳', 'industry': '银行', 'market': '主板', 'exchange': 'SZSE', 'list_status': 'L', 'list_date': '19910403', 'delist_date': None, 'is_hs': 'S', 'updated_at': '2025-08-09 09:09:16'}, {'ts_code': '001227.SZ', 'sec_type': 'stock', 'symbol': '001227', 'name': '兰州银行', 'area': '甘肃', 'industry': '银行', 'market': '主板', 'exchange': 'SZSE', 'list_status': 'L', 'list_date': '20220117', 'delist_date': None, 'is_hs': 'S', 'updated_at': '2025-08-09 09:09:16'}]\n"
          ]
        }
      ],
      "source": [
        "# M6: Universe（可选，使用 mock）\n",
        "# 同步股票池，用于策略运行范围过滤\n",
        "sync = client.post('/universe/sync')\n",
        "print('universe sync:', sync.json())\n",
        "\n",
        "# 简单查询\n",
        "print('universe list:', client.get('/universe/stocks?industry=银行').json()[:2])\n",
        "\n"
      ]
    },
    {
      "cell_type": "code",
      "execution_count": 10,
      "metadata": {},
      "outputs": [
        {
          "name": "stdout",
          "output_type": "stream",
          "text": [
            "run status: 200\n",
            "results: [{'ts_code': '000001.SZ', 'trade_date': '20210108', 'factor_24': 1.0204081632653064, 'score': 1.0204081632653064}, {'ts_code': '000001.SZ', 'trade_date': '20210107', 'factor_24': 1.0204081632653061, 'score': 1.0204081632653061}]\n"
          ]
        }
      ],
      "source": [
        "# M7: 运行策略（含 Universe 过滤）\n",
        "run = client.post(f'/strategies/{sid}/run', json={\n",
        "    'industry': '银行',\n",
        "    'ts_codes': ['000001.SZ','600000.SH'],\n",
        "    'start_date': '20210101',\n",
        "    'end_date': '20210108',\n",
        "    'top_n': 2\n",
        "})\n",
        "print('run status:', run.status_code)\n",
        "print('results:', run.json().get('results'))\n",
        "\n"
      ]
    }
  ],
  "metadata": {
    "kernelspec": {
      "display_name": ".venv",
      "language": "python",
      "name": "python3"
    },
    "language_info": {
      "codemirror_mode": {
        "name": "ipython",
        "version": 3
      },
      "file_extension": ".py",
      "mimetype": "text/x-python",
      "name": "python",
      "nbconvert_exporter": "python",
      "pygments_lexer": "ipython3",
      "version": "3.9.10"
    }
  },
  "nbformat": 4,
  "nbformat_minor": 2
}
